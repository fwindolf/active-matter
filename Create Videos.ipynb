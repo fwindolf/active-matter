{
 "cells": [
  {
   "cell_type": "code",
   "execution_count": 1,
   "metadata": {},
   "outputs": [],
   "source": [
    "import os\n",
    "import glob\n",
    "import cv2\n",
    "import numpy as np"
   ]
  },
  {
   "cell_type": "code",
   "execution_count": 21,
   "metadata": {},
   "outputs": [],
   "source": [
    "data_dir = '/l/data_orig_sequencable/'\n",
    "vid_dir = '/l/data_orig_video/'\n",
    "if not os.path.exists(vid_dir):\n",
    "    os.mkdir(vid_dir)"
   ]
  },
  {
   "cell_type": "code",
   "execution_count": 31,
   "metadata": {},
   "outputs": [],
   "source": [
    "ih, iw = 1024, 1224\n",
    "max_frames = 1200"
   ]
  },
  {
   "cell_type": "code",
   "execution_count": null,
   "metadata": {},
   "outputs": [
    {
     "name": "stdout",
     "output_type": "stream",
     "text": [
      "0deg_-100V.mp4 1200\n",
      "0deg_-100V.mp4 0 / 1200\n",
      "0deg_-100V.mp4 100 / 1200\n",
      "0deg_-100V.mp4 200 / 1200\n",
      "0deg_-100V.mp4 300 / 1200\n",
      "0deg_-100V.mp4 400 / 1200\n",
      "0deg_-100V.mp4 500 / 1200\n",
      "0deg_-100V.mp4 600 / 1200\n",
      "0deg_-100V.mp4 700 / 1200\n",
      "0deg_-100V.mp4 800 / 1200\n",
      "0deg_-100V.mp4 900 / 1200\n",
      "0deg_-100V.mp4 1000 / 1200\n",
      "0deg_-100V.mp4 1100 / 1200\n",
      "60deg_-120V.mp4 1201\n",
      "60deg_-120V.mp4 100 / 1201\n",
      "60deg_-120V.mp4 200 / 1201\n",
      "60deg_-120V.mp4 300 / 1201\n",
      "60deg_-120V.mp4 400 / 1201\n",
      "60deg_-120V.mp4 500 / 1201\n",
      "60deg_-120V.mp4 600 / 1201\n",
      "60deg_-120V.mp4 700 / 1201\n",
      "60deg_-120V.mp4 800 / 1201\n",
      "60deg_-120V.mp4 900 / 1201\n",
      "60deg_-120V.mp4 1000 / 1201\n",
      "60deg_-120V.mp4 1100 / 1201\n",
      "60deg_-120V.mp4 1200 / 1201\n",
      "60deg_-95V.mp4 1201\n",
      "60deg_-95V.mp4 100 / 1201\n",
      "60deg_-95V.mp4 200 / 1201\n",
      "60deg_-95V.mp4 300 / 1201\n",
      "60deg_-95V.mp4 400 / 1201\n",
      "60deg_-95V.mp4 500 / 1201\n",
      "60deg_-95V.mp4 600 / 1201\n",
      "60deg_-95V.mp4 700 / 1201\n",
      "60deg_-95V.mp4 800 / 1201\n",
      "60deg_-95V.mp4 900 / 1201\n",
      "60deg_-95V.mp4 1000 / 1201\n",
      "60deg_-95V.mp4 1100 / 1201\n",
      "60deg_-95V.mp4 1200 / 1201\n",
      "60deg_-105V.mp4 1201\n",
      "60deg_-105V.mp4 100 / 1201\n",
      "60deg_-105V.mp4 200 / 1201\n",
      "60deg_-105V.mp4 300 / 1201\n",
      "60deg_-105V.mp4 400 / 1201\n",
      "60deg_-105V.mp4 500 / 1201\n",
      "60deg_-105V.mp4 600 / 1201\n",
      "60deg_-105V.mp4 700 / 1201\n",
      "60deg_-105V.mp4 800 / 1201\n"
     ]
    }
   ],
   "source": [
    "for folder in os.listdir(data_dir):\n",
    "    vname = folder.replace('/', '') + \".mp4\"\n",
    "    \n",
    "    images = sorted(glob.glob(os.path.join(data_dir, folder) + \"/*.*\"))\n",
    "    print(vname, len(images))\n",
    "    fourcc = cv2.VideoWriter_fourcc(*'MJPG')\n",
    "    out = cv2.VideoWriter(vid_dir + vname,fourcc, 20, (iw, ih)) # w, h\n",
    "    \n",
    "    for i, im_name in enumerate(images):    \n",
    "        img = cv2.imread(im_name, cv2.IMREAD_GRAYSCALE)\n",
    "        if img is None:\n",
    "            continue\n",
    "        \n",
    "        \n",
    "        img = cv2.resize(img, (iw, ih))\n",
    "        img = cv2.cvtColor(img, cv2.COLOR_GRAY2BGR)\n",
    "        out.write(img.astype('uint8'))\n",
    "        if i % 100 == 0:\n",
    "            print(vname, i, \"/\", len(images))\n",
    "            \n",
    "        if i > max_frames:\n",
    "            break\n",
    "    \n",
    "    out.release()    "
   ]
  },
  {
   "cell_type": "code",
   "execution_count": null,
   "metadata": {},
   "outputs": [],
   "source": []
  }
 ],
 "metadata": {
  "kernelspec": {
   "display_name": "Python [conda env:keras-tensorflow-1.6]",
   "language": "python",
   "name": "conda-env-keras-tensorflow-1.6-py"
  },
  "language_info": {
   "codemirror_mode": {
    "name": "ipython",
    "version": 3
   },
   "file_extension": ".py",
   "mimetype": "text/x-python",
   "name": "python",
   "nbconvert_exporter": "python",
   "pygments_lexer": "ipython3",
   "version": "3.6.5"
  }
 },
 "nbformat": 4,
 "nbformat_minor": 2
}
